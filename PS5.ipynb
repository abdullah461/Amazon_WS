{
 "cells": [
  {
   "cell_type": "code",
   "execution_count": 1,
   "metadata": {},
   "outputs": [],
   "source": [
    "# import libraries \n",
    "\n",
    "from bs4 import BeautifulSoup\n",
    "import requests\n",
    "import time\n",
    "import datetime\n",
    "\n",
    "import smtplib"
   ]
  },
  {
   "cell_type": "code",
   "execution_count": 2,
   "metadata": {},
   "outputs": [],
   "source": [
    "#connecting to a website\n",
    "\n",
    "url = 'https://www.amazon.in/PS4-God-of-War/dp/B07YQ73Y8T/ref=sr_1_2?keywords=ps4%2Bgame&qid=1642854585&sr=8-2'\n",
    "header = {\"User-Agent\": \"Mozilla/5.0 (Macintosh; Intel Mac OS X 10_15_7) AppleWebKit/537.36 (KHTML, like Gecko) Chrome/97.0.4692.99 Safari/537.36\"}"
   ]
  },
  {
   "cell_type": "code",
   "execution_count": 3,
   "metadata": {},
   "outputs": [
    {
     "name": "stdout",
     "output_type": "stream",
     "text": [
      "\n",
      "            God of War | PS4 Game (PlayStation 4)\n",
      "           \n",
      "\n",
      "                           ₹979.00\n",
      "                          \n"
     ]
    }
   ],
   "source": [
    "#getting the data from the website\n",
    "page = requests.get(url, headers=header)\n",
    "\n",
    "s1 = BeautifulSoup(page.content,'html.parser')\n",
    "s2 = BeautifulSoup(s1.prettify(),'html.parser')\n",
    "\n",
    "title = s2.find('span','a-size-large product-title-word-break').get_text()\n",
    "print(title)\n",
    "price = s2.find('span', 'a-offscreen').get_text()\n",
    "print(price)"
   ]
  },
  {
   "cell_type": "code",
   "execution_count": 4,
   "metadata": {},
   "outputs": [
    {
     "name": "stdout",
     "output_type": "stream",
     "text": [
      "God of War | PS4 Game (PlayStation 4) 979.00\n"
     ]
    }
   ],
   "source": [
    "#removing the rupee sign from the price\n",
    "\n",
    "price = price.strip()[1:]\n",
    "title = title.strip()\n",
    "\n",
    "print(title,price)\n"
   ]
  },
  {
   "cell_type": "code",
   "execution_count": 5,
   "metadata": {},
   "outputs": [
    {
     "name": "stdout",
     "output_type": "stream",
     "text": [
      "2023-05-11\n"
     ]
    }
   ],
   "source": [
    "# todays date\n",
    "today = datetime.date.today()\n",
    "print(today)"
   ]
  },
  {
   "cell_type": "code",
   "execution_count": 6,
   "metadata": {},
   "outputs": [],
   "source": [
    "#saving the data from the amazon website into a csv file\n",
    "import csv \n",
    "\n",
    "h1 = ['Title','Price','Date']\n",
    "data = [title,price,today]\n",
    "\n",
    "with open('Scrapper_file.csv','w',newline='',encoding='UTF8') as f:\n",
    "    writer = csv.writer(f)\n",
    "    writer.writerow(h1)\n",
    "    writer.writerow(data)"
   ]
  }
 ],
 "metadata": {
  "kernelspec": {
   "display_name": "Python 3",
   "language": "python",
   "name": "python3"
  },
  "language_info": {
   "codemirror_mode": {
    "name": "ipython",
    "version": 3
   },
   "file_extension": ".py",
   "mimetype": "text/x-python",
   "name": "python",
   "nbconvert_exporter": "python",
   "pygments_lexer": "ipython3",
   "version": "3.11.1"
  },
  "orig_nbformat": 4
 },
 "nbformat": 4,
 "nbformat_minor": 2
}
